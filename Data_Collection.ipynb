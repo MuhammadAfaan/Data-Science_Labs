{
  "nbformat": 4,
  "nbformat_minor": 0,
  "metadata": {
    "colab": {
      "provenance": [],
      "authorship_tag": "ABX9TyOeFv1OAIZ7jFrplgJXIjNA",
      "include_colab_link": true
    },
    "kernelspec": {
      "name": "python3",
      "display_name": "Python 3"
    },
    "language_info": {
      "name": "python"
    }
  },
  "cells": [
    {
      "cell_type": "markdown",
      "metadata": {
        "id": "view-in-github",
        "colab_type": "text"
      },
      "source": [
        "<a href=\"https://colab.research.google.com/github/MuhammadAfaan/Data-Science_Labs/blob/main/Data_Collection.ipynb\" target=\"_parent\"><img src=\"https://colab.research.google.com/assets/colab-badge.svg\" alt=\"Open In Colab\"/></a>"
      ]
    },
    {
      "cell_type": "code",
      "execution_count": null,
      "metadata": {
        "id": "OytFUEN-nv0U"
      },
      "outputs": [],
      "source": [
        "import sqlite3\n",
        "import random\n",
        "import datetime\n",
        "\n",
        "conn = sqlite3.connect('weather_data.db')\n",
        "cursor = conn.cursor()"
      ]
    },
    {
      "cell_type": "code",
      "source": [
        "cursor.execute('''\n",
        "CREATE TABLE IF NOT EXISTS weather (\n",
        "    id INTEGER PRIMARY KEY AUTOINCREMENT,\n",
        "    city TEXT NOT NULL,\n",
        "    temperature REAL,\n",
        "    humidity INTEGER,\n",
        "    pressure INTEGER,\n",
        "    wind_speed REAL,\n",
        "    wind_direction TEXT,\n",
        "    precipitation REAL,\n",
        "    visibility INTEGER,\n",
        "    cloud_cover INTEGER,\n",
        "    uv_index INTEGER,\n",
        "    sunrise TEXT,\n",
        "    sunset TEXT,\n",
        "    datetime TEXT\n",
        ");\n",
        "''')\n"
      ],
      "metadata": {
        "colab": {
          "base_uri": "https://localhost:8080/"
        },
        "id": "xPX89Grgn9Bf",
        "outputId": "c54a75c2-e2df-44f6-b057-4dbebc06c94a"
      },
      "execution_count": null,
      "outputs": [
        {
          "output_type": "execute_result",
          "data": {
            "text/plain": [
              "<sqlite3.Cursor at 0x7dd5ba55dd40>"
            ]
          },
          "metadata": {},
          "execution_count": 4
        }
      ]
    },
    {
      "cell_type": "code",
      "source": [
        "cities = [\"London\", \"New York\", \"Tokyo\", \"Berlin\", \"Paris\"]\n",
        "weather_conditions = [\"Sunny\", \"Cloudy\", \"Rainy\", \"Stormy\", \"Snowy\"]\n",
        "wind_directions = [\"N\", \"NE\", \"E\", \"SE\", \"S\", \"SW\", \"W\", \"NW\"]"
      ],
      "metadata": {
        "id": "o3LpgtxToR6E"
      },
      "execution_count": null,
      "outputs": []
    },
    {
      "cell_type": "code",
      "source": [
        "for _ in range(10):  # Insert 10 random weather records\n",
        "    city = random.choice(cities)\n",
        "    temperature = round(random.uniform(-5, 35), 1)# Temperature in Celsius\n",
        "    humidity = random.randint(30, 100)  # Percentage\n",
        "    pressure = random.randint(980, 1030)  # hPa\n",
        "    wind_speed = round(random.uniform(0, 15), 1)  # km/h\n",
        "    wind_direction = random.choice(wind_directions)\n",
        "    precipitation = round(random.uniform(0, 20), 1)  # mm\n",
        "    visibility = random.randint(1000, 10000)  # meters\n",
        "    cloud_cover = random.randint(0, 100)  # Percentage\n",
        "    uv_index = random.randint(0, 11)  # UV index\n",
        "    sunrise = \"06:30 AM\"\n",
        "    sunset = \"07:45 PM\"\n",
        "    current_time = datetime.datetime.now().strftime(\"%Y-%m-%d %H:%M:%S\")\n",
        "\n",
        "    cursor.execute('''\n",
        "    INSERT INTO weather\n",
        "    (city, temperature, humidity, pressure, wind_speed, wind_direction, precipitation,\n",
        "     visibility, cloud_cover, uv_index, sunrise, sunset, datetime)\n",
        "    VALUES (?, ?, ?, ?, ?, ?, ?, ?, ?, ?, ?, ?, ?)\n",
        "    ''', (city, temperature, humidity, pressure, wind_speed, wind_direction, precipitation,\n",
        "          visibility, cloud_cover, uv_index, sunrise, sunset, current_time))\n",
        "\n",
        "# Commit the changes\n",
        "conn.commit()\n"
      ],
      "metadata": {
        "id": "x1XzTyF2ocCH"
      },
      "execution_count": null,
      "outputs": []
    },
    {
      "cell_type": "code",
      "source": [
        "cursor.execute(\"SELECT * FROM weather\")\n",
        "records = cursor.fetchall()\n",
        "\n",
        "print(\"\\n Weather Records:\")"
      ],
      "metadata": {
        "colab": {
          "base_uri": "https://localhost:8080/"
        },
        "id": "azb8QDt0o54g",
        "outputId": "5f69a283-99c3-42c7-a03f-6ac4c183e03c"
      },
      "execution_count": null,
      "outputs": [
        {
          "output_type": "stream",
          "name": "stdout",
          "text": [
            "\n",
            " Weather Records:\n"
          ]
        }
      ]
    },
    {
      "cell_type": "code",
      "source": [
        "for record in records:\n",
        "    print(record)"
      ],
      "metadata": {
        "colab": {
          "base_uri": "https://localhost:8080/"
        },
        "id": "GUIof1XdpNR0",
        "outputId": "5a01a398-5452-4a32-b619-963aa78d2caa"
      },
      "execution_count": null,
      "outputs": [
        {
          "output_type": "stream",
          "name": "stdout",
          "text": [
            "(1, 'Berlin', 8.0, 46, 985, 12.9, 'N', 0.1, 5661, 11, 2, '06:30 AM', '07:45 PM', '2025-02-13 04:49:01')\n",
            "(2, 'Tokyo', 6.2, 52, 982, 11.8, 'W', 14.3, 3794, 71, 8, '06:30 AM', '07:45 PM', '2025-02-13 04:49:01')\n",
            "(3, 'New York', 32.7, 94, 1027, 5.9, 'SW', 7.4, 4750, 45, 10, '06:30 AM', '07:45 PM', '2025-02-13 04:49:01')\n",
            "(4, 'New York', 17.1, 48, 986, 4.5, 'E', 16.8, 5880, 87, 7, '06:30 AM', '07:45 PM', '2025-02-13 04:49:01')\n",
            "(5, 'London', 14.2, 68, 1013, 10.6, 'SE', 13.7, 9712, 20, 7, '06:30 AM', '07:45 PM', '2025-02-13 04:49:01')\n",
            "(6, 'Berlin', 14.2, 85, 1010, 0.4, 'SE', 7.4, 3659, 87, 4, '06:30 AM', '07:45 PM', '2025-02-13 04:49:01')\n",
            "(7, 'London', 19.2, 54, 1020, 0.5, 'SE', 0.6, 8375, 57, 1, '06:30 AM', '07:45 PM', '2025-02-13 04:49:01')\n",
            "(8, 'Berlin', 19.2, 58, 987, 13.0, 'S', 4.0, 9442, 90, 8, '06:30 AM', '07:45 PM', '2025-02-13 04:49:01')\n",
            "(9, 'New York', 5.4, 39, 1021, 8.4, 'NE', 2.2, 4523, 65, 5, '06:30 AM', '07:45 PM', '2025-02-13 04:49:01')\n",
            "(10, 'New York', 23.0, 35, 984, 8.7, 'SW', 5.1, 3406, 72, 3, '06:30 AM', '07:45 PM', '2025-02-13 04:49:01')\n"
          ]
        }
      ]
    },
    {
      "cell_type": "code",
      "source": [
        "conn.close()"
      ],
      "metadata": {
        "id": "wYMaPSbrpQVx"
      },
      "execution_count": null,
      "outputs": []
    },
    {
      "cell_type": "markdown",
      "source": [
        "# Task#**1**"
      ],
      "metadata": {
        "id": "dAdf_rhRpVi8"
      }
    },
    {
      "cell_type": "code",
      "source": [
        "cursor.execute('''\n",
        "CREATE TABLE IF NOT EXISTS city_data (\n",
        "    city_id INTEGER PRIMARY KEY AUTOINCREMENT,\n",
        "    temperature REAL,\n",
        "    city_sites TEXT,\n",
        "    datetime TEXT\n",
        ");\n",
        "''')"
      ],
      "metadata": {
        "colab": {
          "base_uri": "https://localhost:8080/"
        },
        "id": "sMsHTIoMq7IV",
        "outputId": "349275f0-7fd4-4748-e14d-cfc7a731028f"
      },
      "execution_count": null,
      "outputs": [
        {
          "output_type": "execute_result",
          "data": {
            "text/plain": [
              "<sqlite3.Cursor at 0x7dd5ba5631c0>"
            ]
          },
          "metadata": {},
          "execution_count": 16
        }
      ]
    },
    {
      "cell_type": "code",
      "source": [
        "for _ in range(10):  # Insert 10 random weather records\n",
        "    city_sites = random.choice(cities)\n",
        "    temperature = round(random.uniform(-5, 35), 1)# Temperature in Celsius\n",
        "    sunrise = \"06:30 AM\"\n",
        "    sunset = \"07:45 PM\"\n",
        "    current_time = datetime.datetime.now().strftime(\"%Y-%m-%d %H:%M:%S\")\n",
        "\n",
        "    cursor.execute('''\n",
        "    INSERT INTO city_data\n",
        "    (temperature, city_sites, datetime)\n",
        "    VALUES (?, ?, ?)\n",
        "    ''', (temperature,city_sites,current_time))\n",
        "\n",
        "# Commit the changes\n",
        "conn.commit()\n"
      ],
      "metadata": {
        "id": "wJwSdZCupX8v"
      },
      "execution_count": null,
      "outputs": []
    },
    {
      "cell_type": "code",
      "source": [
        "cursor.execute(\"SELECT * FROM city_data\")\n",
        "records = cursor.fetchall()\n",
        "\n",
        "print(\"\\n City Records:\")\n",
        "for record in records:\n",
        "    print(record)\n"
      ],
      "metadata": {
        "colab": {
          "base_uri": "https://localhost:8080/"
        },
        "id": "1BDGBWBnsB7-",
        "outputId": "e86f9909-0a5b-4d61-cc30-533f6423a894"
      },
      "execution_count": null,
      "outputs": [
        {
          "output_type": "stream",
          "name": "stdout",
          "text": [
            "\n",
            " City Records:\n",
            "(1, -2.2, 'New York', '2025-02-13 05:02:39')\n",
            "(2, 14.8, 'Tokyo', '2025-02-13 05:02:39')\n",
            "(3, 7.1, 'Berlin', '2025-02-13 05:02:39')\n",
            "(4, 14.9, 'Berlin', '2025-02-13 05:02:39')\n",
            "(5, 19.3, 'London', '2025-02-13 05:02:39')\n",
            "(6, 3.6, 'Paris', '2025-02-13 05:02:39')\n",
            "(7, 10.6, 'Berlin', '2025-02-13 05:02:39')\n",
            "(8, 22.3, 'New York', '2025-02-13 05:02:39')\n",
            "(9, -1.6, 'New York', '2025-02-13 05:02:39')\n",
            "(10, 10.3, 'New York', '2025-02-13 05:02:39')\n"
          ]
        }
      ]
    },
    {
      "cell_type": "markdown",
      "source": [
        "# Part **2**"
      ],
      "metadata": {
        "id": "fQClb8sksLJE"
      }
    },
    {
      "cell_type": "code",
      "source": [
        "query = '''\n",
        "SELECT\n",
        "    weather.city,\n",
        "    weather.temperature AS weather_temperature,\n",
        "    weather.humidity,\n",
        "    weather.pressure,\n",
        "    weather.wind_speed,\n",
        "    city_data.temperature AS city_avg_temperature,\n",
        "    city_data.city_sites,\n",
        "    city_data.datetime AS city_record_datetime\n",
        "FROM weather\n",
        "JOIN city_data ON weather.city = city_data.city_sites;\n",
        "'''\n",
        "\n",
        "cursor.execute(query)\n",
        "\n",
        "results = cursor.fetchall()\n",
        "for row in results:\n",
        "    print(row)"
      ],
      "metadata": {
        "colab": {
          "base_uri": "https://localhost:8080/"
        },
        "id": "iOK92rA1sNFw",
        "outputId": "a6971971-4b80-466b-d836-7709bc34ef08"
      },
      "execution_count": null,
      "outputs": [
        {
          "output_type": "stream",
          "name": "stdout",
          "text": [
            "('Berlin', 8.0, 46, 985, 12.9, 7.1, 'Berlin', '2025-02-13 05:02:39')\n",
            "('Berlin', 8.0, 46, 985, 12.9, 10.6, 'Berlin', '2025-02-13 05:02:39')\n",
            "('Berlin', 8.0, 46, 985, 12.9, 14.9, 'Berlin', '2025-02-13 05:02:39')\n",
            "('Tokyo', 6.2, 52, 982, 11.8, 14.8, 'Tokyo', '2025-02-13 05:02:39')\n",
            "('New York', 32.7, 94, 1027, 5.9, -2.2, 'New York', '2025-02-13 05:02:39')\n",
            "('New York', 32.7, 94, 1027, 5.9, -1.6, 'New York', '2025-02-13 05:02:39')\n",
            "('New York', 32.7, 94, 1027, 5.9, 10.3, 'New York', '2025-02-13 05:02:39')\n",
            "('New York', 32.7, 94, 1027, 5.9, 22.3, 'New York', '2025-02-13 05:02:39')\n",
            "('New York', 17.1, 48, 986, 4.5, -2.2, 'New York', '2025-02-13 05:02:39')\n",
            "('New York', 17.1, 48, 986, 4.5, -1.6, 'New York', '2025-02-13 05:02:39')\n",
            "('New York', 17.1, 48, 986, 4.5, 10.3, 'New York', '2025-02-13 05:02:39')\n",
            "('New York', 17.1, 48, 986, 4.5, 22.3, 'New York', '2025-02-13 05:02:39')\n",
            "('London', 14.2, 68, 1013, 10.6, 19.3, 'London', '2025-02-13 05:02:39')\n",
            "('Berlin', 14.2, 85, 1010, 0.4, 7.1, 'Berlin', '2025-02-13 05:02:39')\n",
            "('Berlin', 14.2, 85, 1010, 0.4, 10.6, 'Berlin', '2025-02-13 05:02:39')\n",
            "('Berlin', 14.2, 85, 1010, 0.4, 14.9, 'Berlin', '2025-02-13 05:02:39')\n",
            "('London', 19.2, 54, 1020, 0.5, 19.3, 'London', '2025-02-13 05:02:39')\n",
            "('Berlin', 19.2, 58, 987, 13.0, 7.1, 'Berlin', '2025-02-13 05:02:39')\n",
            "('Berlin', 19.2, 58, 987, 13.0, 10.6, 'Berlin', '2025-02-13 05:02:39')\n",
            "('Berlin', 19.2, 58, 987, 13.0, 14.9, 'Berlin', '2025-02-13 05:02:39')\n",
            "('New York', 5.4, 39, 1021, 8.4, -2.2, 'New York', '2025-02-13 05:02:39')\n",
            "('New York', 5.4, 39, 1021, 8.4, -1.6, 'New York', '2025-02-13 05:02:39')\n",
            "('New York', 5.4, 39, 1021, 8.4, 10.3, 'New York', '2025-02-13 05:02:39')\n",
            "('New York', 5.4, 39, 1021, 8.4, 22.3, 'New York', '2025-02-13 05:02:39')\n",
            "('New York', 23.0, 35, 984, 8.7, -2.2, 'New York', '2025-02-13 05:02:39')\n",
            "('New York', 23.0, 35, 984, 8.7, -1.6, 'New York', '2025-02-13 05:02:39')\n",
            "('New York', 23.0, 35, 984, 8.7, 10.3, 'New York', '2025-02-13 05:02:39')\n",
            "('New York', 23.0, 35, 984, 8.7, 22.3, 'New York', '2025-02-13 05:02:39')\n"
          ]
        }
      ]
    },
    {
      "cell_type": "code",
      "source": [
        "conn.close()"
      ],
      "metadata": {
        "id": "Cs4VYVGws63A"
      },
      "execution_count": null,
      "outputs": []
    },
    {
      "cell_type": "code",
      "source": [
        "import requests\n",
        "api_key = \"51a1b8c00df34cb983452016251302\"\n",
        "city_name = \"Islamabad\"\n",
        "days = 1\n",
        "weather_url = f\"http://api.weatherapi.com/v1/forecast.json?key={api_key}&q={city_name}&days={days}&aqi=yes\"\n",
        "response = requests.get(weather_url)\n",
        "weather_data = response.json()\n",
        "if \"location\" in weather_data and \"forecast\" in weather_data:\n",
        "    location_name = weather_data[\"location\"][\"name\"]\n",
        "    country = weather_data[\"location\"][\"country\"]\n",
        "    print(f\"Weather Forecast for {location_name}, {country} ({days} Days):\\n\")\n",
        "    for day in weather_data[\"forecast\"][\"forecastday\"]:\n",
        "        date = day[\"date\"]\n",
        "        avg_temp = day[\"day\"][\"avgtemp_c\"]\n",
        "        condition = day[\"day\"][\"condition\"][\"text\"]\n",
        "        humidity = day[\"day\"][\"avghumidity\"]\n",
        "        wind_speed = day[\"day\"][\"maxwind_kph\"]\n",
        "        pressure = day[\"day\"].get(\"pressure_mb\", \"N/A\")\n",
        "        print(f\"Date: {date}\")\n",
        "        print(f\"  Avg Temp: {avg_temp}°C\")\n",
        "        print(f\"  Condition: {condition}\")\n",
        "        print(f\"  Humidity: {humidity}%\")\n",
        "        print(f\"  Wind Speed: {wind_speed} km/h\")\n",
        "        print(f\"  Pressure: {pressure} hPa\\n\")\n",
        "else:\n",
        "    print(\"Error fetching data. Check API key or city name.\")"
      ],
      "metadata": {
        "colab": {
          "base_uri": "https://localhost:8080/"
        },
        "id": "MDzfD48Tu3Cp",
        "outputId": "2b9b217d-74a0-407c-fc78-a1f52bc1e97e"
      },
      "execution_count": 2,
      "outputs": [
        {
          "output_type": "stream",
          "name": "stdout",
          "text": [
            "Weather Forecast for Islamabad, Pakistan (1 Days):\n",
            "\n",
            "Date: 2025-02-13\n",
            "  Avg Temp: 12.7°C\n",
            "  Condition: Partly Cloudy \n",
            "  Humidity: 23%\n",
            "  Wind Speed: 17.6 km/h\n",
            "  Pressure: N/A hPa\n",
            "\n"
          ]
        }
      ]
    },
    {
      "cell_type": "markdown",
      "source": [
        "# Task **3**"
      ],
      "metadata": {
        "id": "kL3g61lr0TBf"
      }
    },
    {
      "cell_type": "code",
      "source": [
        "import requests\n",
        "from bs4 import BeautifulSoup"
      ],
      "metadata": {
        "id": "Lkbo7AgC0Sm1"
      },
      "execution_count": null,
      "outputs": []
    },
    {
      "cell_type": "code",
      "source": [
        "url = \"https://www.bbc.com/weather/2643743\"  # London’s BBC Weather page\n",
        "\n",
        "# Send a request to fetch the webpage content\n",
        "headers = {\"User-Agent\": \"Mozilla/5.0\"}\n",
        "response = requests.get(url, headers=headers)\n"
      ],
      "metadata": {
        "id": "HqJyp9xB1ByS"
      },
      "execution_count": null,
      "outputs": []
    },
    {
      "cell_type": "code",
      "source": [
        "# Parse the HTML content\n",
        "soup = BeautifulSoup(response.text, \"html.parser\")\n",
        "\n",
        "# Extract temperature\n",
        "temperature = soup.find(\"span\", class_=\"wr-value--temperature--c\").text\n",
        "\n",
        "# Extract weather description\n",
        "description = soup.find(\"div\", class_=\"wr-day__weather-type-description\").text.strip()\n",
        "\n",
        "# Display results\n",
        "print(f\"Weather in London:\")\n",
        "print(f\"Temperature: {temperature}\")\n",
        "print(f\"Description: {description}\")\n"
      ],
      "metadata": {
        "colab": {
          "base_uri": "https://localhost:8080/"
        },
        "id": "N9NdQQmY2mPs",
        "outputId": "52309cd0-dffa-4a59-e2ce-68b79f274377"
      },
      "execution_count": null,
      "outputs": [
        {
          "output_type": "stream",
          "name": "stdout",
          "text": [
            "Weather in London:\n",
            "Temperature: 6°\n",
            "Description: Light cloud and light winds\n"
          ]
        }
      ]
    },
    {
      "cell_type": "code",
      "source": [
        "# URL for BBC News homepage\n",
        "url = \"https://www.bbc.com/news\"\n",
        "\n",
        "# Send a request to fetch the webpage content\n",
        "headers = {\"User-Agent\": \"Mozilla/5.0\"}\n",
        "response = requests.get(url, headers=headers)\n"
      ],
      "metadata": {
        "id": "xmTXd9fe3urn"
      },
      "execution_count": null,
      "outputs": []
    },
    {
      "cell_type": "code",
      "source": [
        "\n",
        "soup = BeautifulSoup(response.text, \"html.parser\")\n",
        "\n",
        "articles = soup.find_all(\"a\", href=True)\n",
        "\n",
        "print(\"Latest BBC News Articles:\")\n",
        "for article in articles:\n",
        "    if \"news\" in article[\"href\"]:\n",
        "        title = article.get_text().strip()\n",
        "        link = article[\"href\"]\n",
        "\n",
        "        # Print full link if it's relative\n",
        "        if not link.startswith(\"http\"):\n",
        "            link = \"https://www.bbc.com\" + link\n",
        "\n",
        "        if title:\n",
        "            print(f\"Title: {title}\")\n",
        "            print(f\"Link: {link}\\n\")\n"
      ],
      "metadata": {
        "colab": {
          "base_uri": "https://localhost:8080/"
        },
        "id": "QVwCDdZN3cRJ",
        "outputId": "c988a847-b0d9-4344-e7fd-6703e8d50633"
      },
      "execution_count": null,
      "outputs": [
        {
          "output_type": "stream",
          "name": "stdout",
          "text": [
            "Latest BBC News Articles:\n",
            "Title: Watch Live\n",
            "Link: https://www.bbc.com/watch-live-news/\n",
            "\n",
            "Title: News\n",
            "Link: https://www.bbc.com/news\n",
            "\n",
            "Title: Israel-Gaza War\n",
            "Link: https://www.bbc.com/news/topics/c2vdnvdg6xxt\n",
            "\n",
            "Title: War in Ukraine\n",
            "Link: https://www.bbc.com/news/war-in-ukraine\n",
            "\n",
            "Title: US & Canada\n",
            "Link: https://www.bbc.com/news/us-canada\n",
            "\n",
            "Title: UK\n",
            "Link: https://www.bbc.com/news/uk\n",
            "\n",
            "Title: Africa\n",
            "Link: https://www.bbc.com/news/world/africa\n",
            "\n",
            "Title: Asia\n",
            "Link: https://www.bbc.com/news/world/asia\n",
            "\n",
            "Title: Australia\n",
            "Link: https://www.bbc.com/news/world/australia\n",
            "\n",
            "Title: Europe\n",
            "Link: https://www.bbc.com/news/world/europe\n",
            "\n",
            "Title: Latin America\n",
            "Link: https://www.bbc.com/news/world/latin_america\n",
            "\n",
            "Title: Middle East\n",
            "Link: https://www.bbc.com/news/world/middle_east\n",
            "\n",
            "Title: In Pictures\n",
            "Link: https://www.bbc.com/news/in_pictures\n",
            "\n",
            "Title: BBC InDepth\n",
            "Link: https://www.bbc.com/news/bbcindepth\n",
            "\n",
            "Title: BBC Verify\n",
            "Link: https://www.bbc.com/news/bbcverify\n",
            "\n",
            "Title: News\n",
            "Link: https://www.bbc.com/news\n",
            "\n",
            "Title: Israel-Gaza War\n",
            "Link: https://www.bbc.com/news/topics/c2vdnvdg6xxt\n",
            "\n",
            "Title: War in Ukraine\n",
            "Link: https://www.bbc.com/news/war-in-ukraine\n",
            "\n",
            "Title: US & Canada\n",
            "Link: https://www.bbc.com/news/us-canada\n",
            "\n",
            "Title: UK\n",
            "Link: https://www.bbc.com/news/uk\n",
            "\n",
            "Title: UK Politics\n",
            "Link: https://www.bbc.com/news/politics\n",
            "\n",
            "Title: England\n",
            "Link: https://www.bbc.com/news/england\n",
            "\n",
            "Title: N. Ireland\n",
            "Link: https://www.bbc.com/news/northern_ireland\n",
            "\n",
            "Title: N. Ireland Politics\n",
            "Link: https://www.bbc.com/news/northern_ireland/northern_ireland_politics\n",
            "\n",
            "Title: Scotland\n",
            "Link: https://www.bbc.com/news/scotland\n",
            "\n",
            "Title: Scotland Politics\n",
            "Link: https://www.bbc.com/news/scotland/scotland_politics\n",
            "\n",
            "Title: Wales\n",
            "Link: https://www.bbc.com/news/wales\n",
            "\n",
            "Title: Wales Politics\n",
            "Link: https://www.bbc.com/news/wales/wales_politics\n",
            "\n",
            "Title: Africa\n",
            "Link: https://www.bbc.com/news/world/africa\n",
            "\n",
            "Title: Asia\n",
            "Link: https://www.bbc.com/news/world/asia\n",
            "\n",
            "Title: China\n",
            "Link: https://www.bbc.com/news/world/asia/china\n",
            "\n",
            "Title: India\n",
            "Link: https://www.bbc.com/news/world/asia/india\n",
            "\n",
            "Title: Australia\n",
            "Link: https://www.bbc.com/news/world/australia\n",
            "\n",
            "Title: Europe\n",
            "Link: https://www.bbc.com/news/world/europe\n",
            "\n",
            "Title: Latin America\n",
            "Link: https://www.bbc.com/news/world/latin_america\n",
            "\n",
            "Title: Middle East\n",
            "Link: https://www.bbc.com/news/world/middle_east\n",
            "\n",
            "Title: In Pictures\n",
            "Link: https://www.bbc.com/news/in_pictures\n",
            "\n",
            "Title: BBC InDepth\n",
            "Link: https://www.bbc.com/news/bbcindepth\n",
            "\n",
            "Title: BBC Verify\n",
            "Link: https://www.bbc.com/news/bbcverify\n",
            "\n",
            "Title: Entertainment News\n",
            "Link: https://www.bbc.com/culture/entertainment-news\n",
            "\n",
            "Title: Live News\n",
            "Link: https://www.bbc.com/live/news\n",
            "\n",
            "Title: Newsletters\n",
            "Link: https://www.bbc.com/newsletters\n",
            "\n",
            "Title: Ukraine war talks start now, Trump says after Putin callThe US and Russia leaders speak over the phone after Trump says Nato membership for Ukraine is unlikely.3 hrs agoWorld\n",
            "Link: https://www.bbc.com/news/articles/c04n622gzx7o\n",
            "\n",
            "Title: Trump offers Putin a way back in from the coldThe BBC's Steve Rosenberg analyses how one phone call between Moscow and DC has already upended east-west relations.10 hrs agoWorld\n",
            "Link: https://www.bbc.com/news/articles/c8ed3nk3n6ro\n",
            "\n",
            "Title: Moment SUV driver narrowly escapes train collisionThe driver managed to flee with seconds to spare after their vehicle was pushed on to a train track in Utah.1 hr agoUS & Canada\n",
            "Link: https://www.bbc.com/news/videos/c8d93dd63v2o\n",
            "\n",
            "Title: Beginnings of Roman London discovered in office basementThe discovery has been described as one of the most important pieces of Roman history in the City of London.12 hrs agoScience & Environment\n",
            "Link: https://www.bbc.com/news/articles/cx2jdnv0ywyo\n",
            "\n",
            "Title: Trump moves to close entries to government worker buyout programmeAbout 75,000 government employees have reportedly opted into the programme, which is designed to shrink the workforce.2 hrs agoUS & Canada\n",
            "Link: https://www.bbc.com/news/articles/cvgey2xd1ydo\n",
            "\n",
            "Title: Trump offers Putin a way back in from the coldThe BBC's Steve Rosenberg analyses how one phone call between Moscow and DC has already upended east-west relations.10 hrs agoWorld\n",
            "Link: https://www.bbc.com/news/articles/c8ed3nk3n6ro\n",
            "\n",
            "Title: 'On a power trip' or 'obviously brilliant'? Americans weigh Musk's influenceThe world's richest man is leading a sweeping cost-cutting drive. What do voters in a key swing state make of his role?2 hrs agoUS & Canada\n",
            "Link: https://www.bbc.com/news/articles/cvgmygm2n80o\n",
            "\n",
            "Title: 'AI appears better able to empathise than humans'Some young people in China are finding that AI can offer the unexpected - emotional support8 hrs agoAsia\n",
            "Link: https://www.bbc.com/news/articles/cy7g45g2nxno\n",
            "\n",
            "Title: Ex-Google boss fears AI could be used by terroristsEric Schmidt says AI technology could \"harm innocent people\" if it ends up in the wrong hands.5 hrs agoTechnology\n",
            "Link: https://www.bbc.com/news/articles/c5y6eq2zxlno\n",
            "\n",
            "Title: Moment SUV driver narrowly escapes train collisionThe driver managed to flee with seconds to spare after their vehicle was pushed on to a train track in Utah.1 hr agoUS & Canada\n",
            "Link: https://www.bbc.com/news/videos/c8d93dd63v2o\n",
            "\n",
            "Title: Confusion clouds efforts to save Gaza ceasefire6 hrs agoWorld\n",
            "Link: https://www.bbc.com/news/articles/cd7d9p0j5qeo\n",
            "\n",
            "Title: Trade, tariffs and visas to dominate Trump-Modi talks32 mins agoWorld\n",
            "Link: https://www.bbc.com/news/articles/cj91d3jkpvlo\n",
            "\n",
            "Title: Austria's political crisis deepens as far right fails to form government9 hrs agoEurope\n",
            "Link: https://www.bbc.com/news/articles/c78x3klx4rjo\n",
            "\n",
            "Title: Santorini fears for summer tourist season as earthquakes hit island11 hrs agoEurope\n",
            "Link: https://www.bbc.com/news/articles/cpvme8jw9dro\n",
            "\n",
            "Title: US releases Russian Bitcoin fraud suspect as Belarus frees American6 hrs agoWorld\n",
            "Link: https://www.bbc.com/news/articles/cy08z28wpvdo\n",
            "\n",
            "Title: Is it checkmate for South Africa after Trump aid freeze?The US president is ratcheting up pressure on South Africa over its domestic and foreign policy.4 hrs agoWorld\n",
            "Link: https://www.bbc.com/news/articles/cm27g2jzd78o\n",
            "\n",
            "Title: Trump-Putin call lowers the temperature but at Ukraine's expenseThe BBC's Frank Gardner says improved relations between DC and Moscow may spell trouble for Kyiv.11 hrs agoEurope\n",
            "Link: https://www.bbc.com/news/articles/c2k5wyqqlq0o\n",
            "\n",
            "Title: Fact-checking Elon Musk's claims in the Oval OfficeThe billionaire has made a number of exaggerated or unevidenced claims during a White House event.11 hrs agoUS & Canada\n",
            "Link: https://www.bbc.com/news/articles/cwyjz24ne85o\n",
            "\n",
            "Title: Hegseth sets out hard line on European defence and NatoThe US defence secretary tells Europe to spend more and take responsibility for Ukraine's future defence.12 hrs agoEurope\n",
            "Link: https://www.bbc.com/news/articles/cy0pz3er37jo\n",
            "\n",
            "Title: Legal showdown looms as Trump tests limits of presidential powerA judge accused the Trump administration of defying his orders, setting up a battle that could end up at the Supreme Court.16 hrs agoUS & Canada\n",
            "Link: https://www.bbc.com/news/articles/c70kd686k2do\n",
            "\n",
            "Title: Why India fails to protect its domestic workers despite decades of abuseDespite the high demand for domestic workers, they remain India's most vulnerable and exploited people.8 hrs agoAsia\n",
            "Link: https://www.bbc.com/news/articles/cp3j0e79q52o\n",
            "\n",
            "Title: Fact-checking Elon Musk's claims in the Oval OfficeThe billionaire has made a number of exaggerated or unevidenced claims during a White House event.11 hrs agoUS & Canada\n",
            "Link: https://www.bbc.com/news/articles/cwyjz24ne85o\n",
            "\n",
            "Title: Hunt for rare daffodils that are feared lostAs daffodils burst into bloom, experts want help in finding rare treasures hiding in plain sight.1 day agoClimate\n",
            "Link: https://www.bbc.com/news/articles/c0qwvppk0zzo\n",
            "\n",
            "Title: Fact-checking Elon Musk's claims in the Oval OfficeThe billionaire has made a number of exaggerated or unevidenced claims during a White House event.11 hrs agoUS & Canada\n",
            "Link: https://www.bbc.com/news/articles/cwyjz24ne85o\n",
            "\n",
            "Title: How I exposed MI5's lie about its violent abusive agentThe Security Service gambled BBC correspondent Daniel De Simone had no evidence. A note, an email and a recording proved it wrong.15 hrs agoUK\n",
            "Link: https://www.bbc.com/news/articles/cx25m231n8xo\n",
            "\n",
            "Title: 1Moment SUV driver narrowly escapes train collision\n",
            "Link: https://www.bbc.com/news/videos/c8d93dd63v2o\n",
            "\n",
            "Title: 2BBC reporter asks Trump about return to pre-2014 Ukraine borders\n",
            "Link: https://www.bbc.com/news/videos/c391mm78yego\n",
            "\n",
            "Title: 3'It's a new reality' - US stance on Ukraine a bitter blow to Zelensky\n",
            "Link: https://www.bbc.com/news/videos/c334kyl37jmo\n",
            "\n",
            "Title: 4Moment Monty the giant schnauzer wins prestigious US dog show\n",
            "Link: https://www.bbc.com/news/videos/cwypz1e7lzno\n",
            "\n",
            "Title: 5Hawaii's volcano puts on fiery display as eruption intensifies\n",
            "Link: https://www.bbc.com/news/videos/c334k2z4ee2o\n",
            "\n",
            "Title: Sicily's gangsters complain they can't get the staff An investigation reveals a crime group having to adapt to modernity and displaying a nostalgia for past ambitions.10 hrs agoEurope\n",
            "Link: https://www.bbc.com/news/articles/c1wex4qq792o\n",
            "\n",
            "Title: Chevron to cut as much as 20% of workforceChevron said the move was part of a wider cost-cutting effort, which will see it expand automation. 8 hrs ago\n",
            "Link: https://www.bbc.com/news/articles/c8ed3n1zw05o\n",
            "\n",
            "Title: Sudan fighters accused of storming famine-hit campParamilitaries have been accused of burning a market and homes at a camp for displaced people.14 hrs agoAfrica\n",
            "Link: https://www.bbc.com/news/articles/ce85x6w22gwo\n",
            "\n",
            "Title: Workers rescued from window ledge as fire engulfs Rio clothing factoryAt least 20 people have been injured after a factory making costumes for Carnival celebrations in Brazil caught fire.13 hrs agoLatin America\n",
            "Link: https://www.bbc.com/news/videos/c3rwe3yy89no\n",
            "\n",
            "Title: Judge's sperm donor warning over man who 'fathered 180 children'Women are warned against a man who claims his sperm has fathered children all around the world.18 hrs agoWales\n",
            "Link: https://www.bbc.com/news/articles/c5yer90xpzno\n",
            "\n",
            "Title: Chevron to cut as much as 20% of workforceChevron said the move was part of a wider cost-cutting effort, which will see it expand automation. 8 hrs ago\n",
            "Link: https://www.bbc.com/news/articles/c8ed3n1zw05o\n",
            "\n",
            "Title: Charity 'blown away' by support after Chappell Roan donationThe Pink Pony Club singer wants music labels to offer artists a \"liveable wage and healthcare\".19 hrs agoNewsbeat\n",
            "Link: https://www.bbc.com/news/articles/c15z87v38wjo\n",
            "\n",
            "Title: Sudan fighters accused of storming famine-hit campParamilitaries have been accused of burning a market and homes at a camp for displaced people.14 hrs agoAfrica\n",
            "Link: https://www.bbc.com/news/articles/ce85x6w22gwo\n",
            "\n",
            "Title: 1'On a power trip' or 'obviously brilliant'? Americans weigh Musk's influence\n",
            "Link: https://www.bbc.com/news/articles/cvgmygm2n80o\n",
            "\n",
            "Title: 2Ukraine war talks start now, Trump says after Putin call\n",
            "Link: https://www.bbc.com/news/articles/c04n622gzx7o\n",
            "\n",
            "Title: 3Trump offers Putin a way back in from the cold\n",
            "Link: https://www.bbc.com/news/articles/c8ed3nk3n6ro\n",
            "\n",
            "Title: 4Beginnings of Roman London discovered in office basement\n",
            "Link: https://www.bbc.com/news/articles/cx2jdnv0ywyo\n",
            "\n",
            "Title: 5Trump moves to close entries to government worker buyout programme\n",
            "Link: https://www.bbc.com/news/articles/cvgey2xd1ydo\n",
            "\n",
            "Title: 6Is it checkmate for South Africa after Trump aid freeze?\n",
            "Link: https://www.bbc.com/news/articles/cm27g2jzd78o\n",
            "\n",
            "Title: 7Canada leaders take push against tariffs to White House\n",
            "Link: https://www.bbc.com/news/articles/cj91xrp4zyjo\n",
            "\n",
            "Title: 8Senior Ukraine official accused of being Russian 'rat'\n",
            "Link: https://www.bbc.com/news/articles/cq5gx776nqgo\n",
            "\n",
            "Title: 9Moment SUV driver narrowly escapes train collision\n",
            "Link: https://www.bbc.com/news/videos/c8d93dd63v2o\n",
            "\n",
            "Title: 10Fact-checking Elon Musk's claims in the Oval Office\n",
            "Link: https://www.bbc.com/news/articles/cwyjz24ne85o\n",
            "\n",
            "Title: News\n",
            "Link: https://www.bbc.com/news\n",
            "\n"
          ]
        }
      ]
    },
    {
      "cell_type": "markdown",
      "source": [
        "# Part **2**"
      ],
      "metadata": {
        "id": "hcZAJvUH7syv"
      }
    },
    {
      "cell_type": "code",
      "source": [
        "import requests\n",
        "from bs4 import BeautifulSoup\n",
        "import pandas as pd\n",
        "\n",
        "#url of the web\n",
        "url = \"https://allinonefabrics.pk/?srsltid=AfmBOooXH5NXZZVwwyG5EiHu_EtzpOVYBPzCdKytod-3GU9v6yIEM3KB\"\n",
        "\n",
        "# Define header\n",
        "headers = {\n",
        "    \"User-Agent\": \"Mozilla/5.0 (Windows NT 10.0; Win64; x64) AppleWebKit/537.36 (KHTML, like Gecko) Chrome/58.0.3029.110 Safari/537.36\"\n",
        "}\n",
        "\n",
        "# get request\n",
        "response = requests.get(url, headers=headers)\n",
        "\n",
        "# parse the html\n",
        "soup = BeautifulSoup(response.text, \"html.parser\")\n",
        "\n",
        "# list of products\n",
        "product_details = []\n"
      ],
      "metadata": {
        "id": "jtbciwnX7uwp"
      },
      "execution_count": null,
      "outputs": []
    },
    {
      "cell_type": "code",
      "source": [
        "title=soup.select('.woocommerce-LoopProduct-link.woocommerce-loop-product__link')\n",
        "price = soup.select('.screen-reader-text')\n",
        "for x in title:\n",
        "  print(x.text)"
      ],
      "metadata": {
        "colab": {
          "base_uri": "https://localhost:8080/"
        },
        "id": "CZ3mOKwmAL_v",
        "outputId": "0ca2b3b4-fffd-4930-e984-7c7768a8cfa8"
      },
      "execution_count": null,
      "outputs": [
        {
          "output_type": "stream",
          "name": "stdout",
          "text": [
            "Mix Lawn 2PC | ML # 20\n",
            "Bin Saeed Lawn Vol 2 | BS # 3\n",
            "Gull Bano by Bin Yousaf |  GBY # 2\n",
            "Salina Regalia Doria lawn 3PC | SRD # 4\n",
            "Bin Saeed Chicken Kari | BSC # 1\n",
            "Saya Lawn 3pc | SL # 5\n",
            "Gull Bano by Bin Yousaf |  GBY # 7\n",
            "Gull Bano by Bin Yousaf |  GBY # 3\n",
            "Safina Dhoriya Lawn 3PC | SDL 7\n",
            "Zellbury Lawn 2PC | ZBL # 11\n",
            "Gull Bano by Bin Yousaf |  GBY # 1\n",
            "Bonanza Satrangi Lawn 3PC | BSL # 9\n"
          ]
        }
      ]
    },
    {
      "cell_type": "code",
      "source": [
        "price = soup.select('.screen-reader-text')\n",
        "for x in price:\n",
        "  print(x.text)"
      ],
      "metadata": {
        "colab": {
          "base_uri": "https://localhost:8080/"
        },
        "id": "y74ZpfBWAhG4",
        "outputId": "149ec4f0-7daa-43ce-e5f4-22fea7f2c764"
      },
      "execution_count": null,
      "outputs": [
        {
          "output_type": "stream",
          "name": "stdout",
          "text": [
            "Skip to content\n",
            "Search for:\n",
            "Original price was: ₨ 2,999.\n",
            "Current price is: ₨ 1,390.\n",
            "\n",
            "\n",
            "Original price was: ₨ 5,400.\n",
            "Current price is: ₨ 2,600.\n",
            "\n",
            "\n",
            "Original price was: ₨ 4,990.\n",
            "Current price is: ₨ 3,450.\n",
            "\n",
            "\n",
            "Original price was: ₨ 3,999.\n",
            "Current price is: ₨ 2,550.\n",
            "\n",
            "\n",
            "Original price was: ₨ 9,999.\n",
            "Current price is: ₨ 4,600.\n",
            "\n",
            "\n",
            "Original price was: ₨ 3,599.\n",
            "Current price is: ₨ 2,550.\n",
            "\n",
            "\n",
            "Original price was: ₨ 4,990.\n",
            "Current price is: ₨ 3,450.\n",
            "\n",
            "\n",
            "Original price was: ₨ 4,990.\n",
            "Current price is: ₨ 3,450.\n",
            "\n",
            "\n",
            "Original price was: ₨ 3,999.\n",
            "Current price is: ₨ 2,600.\n",
            "\n",
            "\n",
            "Original price was: ₨ 2,390.\n",
            "Current price is: ₨ 2,150.\n",
            "\n",
            "\n",
            "Original price was: ₨ 4,990.\n",
            "Current price is: ₨ 3,450.\n",
            "\n",
            "\n",
            "Original price was: ₨ 5,999.\n",
            "Current price is: ₨ 2,700.\n",
            "\n",
            "\n",
            "Search for:\n"
          ]
        }
      ]
    }
  ]
}